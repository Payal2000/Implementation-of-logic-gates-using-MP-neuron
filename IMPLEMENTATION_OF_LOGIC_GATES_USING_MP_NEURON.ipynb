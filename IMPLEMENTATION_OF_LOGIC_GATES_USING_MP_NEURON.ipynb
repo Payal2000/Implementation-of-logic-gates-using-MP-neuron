{
  "nbformat": 4,
  "nbformat_minor": 0,
  "metadata": {
    "colab": {
      "name": "IMPLEMENTATION OF LOGIC GATES USING  MP NEURON.ipynb",
      "provenance": []
    },
    "kernelspec": {
      "name": "python3",
      "display_name": "Python 3"
    },
    "language_info": {
      "name": "python"
    }
  },
  "cells": [
    {
      "cell_type": "code",
      "metadata": {
        "colab": {
          "base_uri": "https://localhost:8080/"
        },
        "id": "iGL5fqY9e8b6",
        "outputId": "d578b789-5945-4730-b8f8-17f90b59a078"
      },
      "source": [
        "#Implement AND using MP neuron\n",
        "import numpy as np\n",
        "\n",
        "x1= np.array([0,0,1,1])\n",
        "x2= np.array([0,1,0,1])\n",
        "t= np.array([0,0,0,1])\n",
        "y= np.array([0,0,0,0])\n",
        "\n",
        "w1= float(input('enter value of weight 1'))\n",
        "w2= float(input('enter value of weight 2'))\n",
        "T= float(input('enter value of threshold'))\n",
        "\n",
        "yin= (w1*x1)+(w2*x2)\n",
        "\n",
        "for i in range(4):\n",
        "    if yin[i]>=T:\n",
        "         y[i]=1\n",
        "    else:\n",
        "        y[i]=0\n",
        "   \n",
        "print('target o/p is ',t)\n",
        "print('Actual o/p is ',y)\n",
        "\n",
        "if np.array_equal(y,t):\n",
        "    print('Correct values of weights and threshold')\n",
        "else:\n",
        "    print(\"Incorrect values of weights and threshold, Rerun the program\")"
      ],
      "execution_count": null,
      "outputs": [
        {
          "output_type": "stream",
          "text": [
            "enter value of weight 11\n",
            "enter value of weight 21\n",
            "enter value of threshold2\n",
            "target o/p is  [0 0 0 1]\n",
            "Actual o/p is  [0 0 0 1]\n",
            "Correct values of weights and threshold\n"
          ],
          "name": "stdout"
        }
      ]
    },
    {
      "cell_type": "code",
      "metadata": {
        "colab": {
          "base_uri": "https://localhost:8080/"
        },
        "id": "IgdWUuGSfRnL",
        "outputId": "a676910d-30f1-431e-ab9f-78f742b8bdd5"
      },
      "source": [
        "#Implement OR using MP neuron\n",
        "\n",
        "import numpy as np\n",
        "\n",
        "x1= np.array([0,0,1,1])\n",
        "x2= np.array([0,1,0,1])\n",
        "t= np.array([0,1,1,1])\n",
        "y= np.array([0,0,0,0])\n",
        "\n",
        "w1= float(input('enter value of weight 1'))\n",
        "w2= float(input('enter value of weight 2'))\n",
        "T= float(input('enter value of threshold'))\n",
        "1\n",
        "yin= (w1*x1)+(w2*x2)\n",
        "\n",
        "for i in range(4):\n",
        "    if yin[i]>=T:\n",
        "         y[i]=1\n",
        "    else:\n",
        "        y[i]=0\n",
        "   \n",
        "print('target o/p is ',t)\n",
        "print('Actual o/p is ',y)\n",
        "\n",
        "if np.array_equal(y,t):\n",
        "    print('Correct values of weights and threshold')\n",
        "else:\n",
        "    print(\"Incorrect values of weights and threshold, Rerun the program\")"
      ],
      "execution_count": null,
      "outputs": [
        {
          "output_type": "stream",
          "text": [
            "enter value of weight 111\n",
            "enter value of weight 221\n",
            "enter value of threshold1\n",
            "target o/p is  [0 1 1 1]\n",
            "Actual o/p is  [0 1 1 1]\n",
            "Correct values of weights and threshold\n"
          ],
          "name": "stdout"
        }
      ]
    },
    {
      "cell_type": "code",
      "metadata": {
        "colab": {
          "base_uri": "https://localhost:8080/"
        },
        "id": "dvG8IRaBf2Sv",
        "outputId": "0d6047be-6684-4623-fed4-923f16390f09"
      },
      "source": [
        "#Implement XOR using MP neuron\n",
        "import numpy as np\n",
        "x1= np.array([0,0,1,1])\n",
        "x2= np.array([0,1,0,1])\n",
        "t= np.array([0,1,1,0])\n",
        "y= np.array([0,0,0,0])\n",
        "z1= np.array([0,0,0,0])\n",
        "z2= np.array([0,0,0,0])\n",
        "\n",
        "w11=float(input('enter value of w11'))\n",
        "w21=float(input('enter value of w21'))\n",
        "w12=float(input('enter value of w12'))\n",
        "w22=float(input('enter value of w22'))\n",
        "v1=float(input('enter value of v1'))\n",
        "v2=float(input('enter value of v2'))\n",
        "T=float(input('enter value of threshold'))\n",
        "\n",
        "zin1= (w11*x1)+(w21*x2)\n",
        "zin2= (w12*x1)+(w22*x2)\n",
        "\n",
        "for i in range(4):\n",
        "    if zin1[i]>=T:\n",
        "         z1[i]=1\n",
        "    else:\n",
        "        z1[i]=0\n",
        "        \n",
        "for i in range(4):\n",
        "    if zin2[i]>=T:\n",
        "         z2[i]=1\n",
        "    else:\n",
        "        z2[i]=0\n",
        "\n",
        "yin= (v1*z1)+(v2*z2)\n",
        "\n",
        "for i in range(4):\n",
        "    if yin[i]>=T:\n",
        "         y[i]=1\n",
        "    else:\n",
        "        y[i]=0\n",
        "\n",
        "\n",
        "print('target o/p is ',t)\n",
        "print('Actual o/p is ',y)\n",
        "\n",
        "if np.array_equal(y,t):\n",
        "    print('Correct values of weights and threshold')\n",
        "else:\n",
        "    print(\"Incorrect values of weights and threshold, Rerun the program\")"
      ],
      "execution_count": null,
      "outputs": [
        {
          "output_type": "stream",
          "text": [
            "enter value of w111\n",
            "enter value of w21-1\n",
            "enter value of w12-1\n",
            "enter value of w221\n",
            "enter value of v11\n",
            "enter value of v21\n",
            "enter value of threshold1\n",
            "target o/p is  [0 1 1 0]\n",
            "Actual o/p is  [0 1 1 0]\n",
            "Correct values of weights and threshold\n"
          ],
          "name": "stdout"
        }
      ]
    }
  ]
}